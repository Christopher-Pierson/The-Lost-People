{
 "cells": [
  {
   "cell_type": "markdown",
   "metadata": {},
   "source": [
    "TO DO:\n",
    "1. ~Fix counties for unclaimed~\n",
    "2. ~Fix counties for unidentified~\n",
    "3. ~Add line to state_centroids with south pole coordinates and nonsense FIPS code~\n",
    "4. ~Re-export state-level json (now that county fields have been updated within the databases and American Samoa has been removed)~\n",
    "    * ~MAKE SURE TO MAP NAS to nonsense FIPS~\n",
    "5. ~Add to county centroids:~\n",
    "    * ~55 lines with south pole coordinates and nonsense county FIPS codes (state only_999)~\n",
    "    * ~1 line with south pole coordinates and nonsense FIPS code (99)~\n",
    "6. ~Format county data - state name, and then name and county FIPS code, to get GEOID~\n",
    "7. ~Export county-level json~\n",
    "    * ~any records with no county get pulled (to separate state FIPS with no county key and nonsense coordinates [south pole])~\n",
    "    * ~make sure state name included as field with each database, not just FIPS code~\n",
    "8. ~Re-export summary count JSON (as a few cases have been deleted)~\n",
    "    * ~Address 21 NAs for Unclaimed?~\n",
    "9. ~Clean null values for age and gender and sex and race / ethnicity~\n",
    "10. ~Re-export state and county JSONS~\n",
    "11. Make GeoJSON of state polygons\n",
    "12. Make GeoJSON of county polygons\n",
    "13. Make summary GeoJSON with county counts\n",
    "14. See how bad city data would be\n",
    "    * likely need to make all city names .lower"
   ]
  },
  {
   "cell_type": "code",
   "execution_count": 1,
   "metadata": {},
   "outputs": [],
   "source": [
    "# import necessary packages\n",
    "import pandas as pd\n",
    "import geopandas as gpd\n",
    "import numpy as np\n",
    "import json\n",
    "import geojson"
   ]
  },
  {
   "cell_type": "markdown",
   "metadata": {},
   "source": [
    "Notes:\n",
    "1. Edits to Missing_04182020.csv prior to import\n",
    "  * Virgin Islands (to United States Virgin Islands), \n",
    "  * Tennesse (to Tennessee), and \n",
    "  * Northern Mariana Islands (to Commonwealth of the Northern Mariana Islands)\n",
    "  * Address all county nulls\n",
    "2. Edits to Unclaimed_0418202.csv priort to import\n",
    "  * Address all county nulls\n",
    "3. Edits to Unidentified_04182020.csv prior to import\n",
    "  * Virgin Islands (to United States Virgin Islands)\n",
    "  * Address all county nulls\n",
    "4. Edits to state_centroids_v2 prior to import\n",
    "  * Add one row with south pole coordinates and nonsense FIPS code(99) - for cases w/ no city, county, or state\n",
    "5. Edits to county_centroids_v2 prior to import\n",
    "  * Add one row with south pole coordinates and nonsense FIPS code(99) - for cases w/ no city, county, or state\n",
    "  * Add 55 rows with south pole coordinates and nonsense county FIPS codes(999) - for cases w/ no city or county"
   ]
  },
  {
   "cell_type": "code",
   "execution_count": null,
   "metadata": {},
   "outputs": [],
   "source": [
    "# Read in csvs\n",
    "city_df = pd.read_csv('cities.csv')"
   ]
  },
  {
   "cell_type": "code",
   "execution_count": null,
   "metadata": {},
   "outputs": [],
   "source": [
    "state_centroids_df = pd.read_csv('state_centroids.csv')"
   ]
  },
  {
   "cell_type": "code",
   "execution_count": null,
   "metadata": {},
   "outputs": [],
   "source": [
    "# alternate centroids - with None option with FIPS 99\n",
    "state_centroids_v2_df = pd.read_csv('state_centroids_v2.csv')"
   ]
  },
  {
   "cell_type": "code",
   "execution_count": null,
   "metadata": {},
   "outputs": [],
   "source": [
    "county_centroids_df = pd.read_csv('county_centroids.csv', encoding='Windows-1252')"
   ]
  },
  {
   "cell_type": "code",
   "execution_count": null,
   "metadata": {},
   "outputs": [],
   "source": [
    "# alternate centroids - with None options with count FIPS 999\n",
    "county_centroids_v2_df = pd.read_csv('county_centroids_v2.csv', encoding='Windows-1252')"
   ]
  },
  {
   "cell_type": "code",
   "execution_count": null,
   "metadata": {},
   "outputs": [],
   "source": [
    "missing_df = pd.read_csv('Missing_04182020.csv')"
   ]
  },
  {
   "cell_type": "code",
   "execution_count": null,
   "metadata": {},
   "outputs": [],
   "source": [
    "unclaimed_df = pd.read_csv('Unclaimed_04182020.csv')"
   ]
  },
  {
   "cell_type": "code",
   "execution_count": null,
   "metadata": {},
   "outputs": [],
   "source": [
    "unidentified_df = pd.read_csv('Unidentified_04182020.csv')"
   ]
  },
  {
   "cell_type": "code",
   "execution_count": null,
   "metadata": {},
   "outputs": [],
   "source": [
    "# check dataframe\n",
    "county_centroids_v2_df.head()"
   ]
  },
  {
   "cell_type": "markdown",
   "metadata": {},
   "source": [
    "# PART 1: Summary data (count for all 3 databases, by state)"
   ]
  },
  {
   "cell_type": "markdown",
   "metadata": {},
   "source": [
    "### 1/4: Get count of missing person cases"
   ]
  },
  {
   "cell_type": "code",
   "execution_count": null,
   "metadata": {},
   "outputs": [],
   "source": [
    "missing_count = missing_df.groupby('State').count()\n",
    "len(missing_count)\n",
    "missing_count.head()"
   ]
  },
  {
   "cell_type": "code",
   "execution_count": null,
   "metadata": {},
   "outputs": [],
   "source": [
    "# Remove all columns except case number count\n",
    "missing_count = missing_count.drop(columns=['DLC','Last Name', 'First Name', 'Missing Age', 'City', 'County', 'Sex', 'Race / Ethnicity', 'Date Modified'])"
   ]
  },
  {
   "cell_type": "code",
   "execution_count": null,
   "metadata": {},
   "outputs": [],
   "source": [
    "# add column for state (since state is now index)\n",
    "missing_count['State'] = missing_count.index"
   ]
  },
  {
   "cell_type": "code",
   "execution_count": null,
   "metadata": {},
   "outputs": [],
   "source": [
    "# rename case number count column\n",
    "missing_count = missing_count.rename(columns = {'Case Number': 'Missing_CaseCount'}, inplace = False)"
   ]
  },
  {
   "cell_type": "code",
   "execution_count": null,
   "metadata": {},
   "outputs": [],
   "source": [
    "# check dataframe\n",
    "missing_count.head()"
   ]
  },
  {
   "cell_type": "code",
   "execution_count": null,
   "metadata": {},
   "outputs": [],
   "source": [
    "# make dictionary of states and missing person counts\n",
    "missing_dict = dict(zip(missing_count.State, missing_count.Missing_CaseCount))\n",
    "len(missing_dict)\n",
    "# missing_dict"
   ]
  },
  {
   "cell_type": "code",
   "execution_count": null,
   "metadata": {},
   "outputs": [],
   "source": [
    "# Get count of values in missing database w/ no state assigned\n",
    "mis_null_series = missing_df.loc[missing_df['State'].isnull()].count()\n",
    "mis_null_ct = mis_null_series['Case Number']\n",
    "mis_null_ct"
   ]
  },
  {
   "cell_type": "markdown",
   "metadata": {},
   "source": [
    "### 2/4: Get count of unclaimed persons"
   ]
  },
  {
   "cell_type": "code",
   "execution_count": null,
   "metadata": {},
   "outputs": [],
   "source": [
    "unclaimed_count = unclaimed_df.groupby('State').count()\n",
    "# len(unclaimed_count)\n",
    "unclaimed_count.head()"
   ]
  },
  {
   "cell_type": "code",
   "execution_count": null,
   "metadata": {},
   "outputs": [],
   "source": [
    "# Remove all columns except case number count\n",
    "unclaimed_count = unclaimed_count.drop(columns=['DBF','Last Name', 'First Name', 'Sex', 'Race / Ethnicity', 'City', 'County', 'Date Modified'])"
   ]
  },
  {
   "cell_type": "code",
   "execution_count": null,
   "metadata": {},
   "outputs": [],
   "source": [
    "# add column for state (since state is now index)\n",
    "unclaimed_count['State'] = unclaimed_count.index"
   ]
  },
  {
   "cell_type": "code",
   "execution_count": null,
   "metadata": {},
   "outputs": [],
   "source": [
    "# rename case number count column\n",
    "unclaimed_count = unclaimed_count.rename(columns = {'Case Number': 'Unclaimed_CaseCount'}, inplace = False)"
   ]
  },
  {
   "cell_type": "code",
   "execution_count": null,
   "metadata": {},
   "outputs": [],
   "source": [
    "# check dataframe\n",
    "unclaimed_count.head()"
   ]
  },
  {
   "cell_type": "code",
   "execution_count": null,
   "metadata": {},
   "outputs": [],
   "source": [
    "# make dictionary of states and unclaimed case counts\n",
    "unclaimed_dict = dict(zip(unclaimed_count.State, unclaimed_count.Unclaimed_CaseCount))\n",
    "len(unclaimed_dict)\n",
    "# unclaimed_dict"
   ]
  },
  {
   "cell_type": "code",
   "execution_count": null,
   "metadata": {},
   "outputs": [],
   "source": [
    "# Get count of values in unclaimed database w/ no state assigned\n",
    "unc_null_series = unclaimed_df.loc[unclaimed_df['State'].isnull()].count()\n",
    "unc_null_ct = unc_null_series['Case Number']\n",
    "unc_null_ct"
   ]
  },
  {
   "cell_type": "markdown",
   "metadata": {},
   "source": [
    "### 3/4: Get count of unidentified persons"
   ]
  },
  {
   "cell_type": "code",
   "execution_count": null,
   "metadata": {},
   "outputs": [],
   "source": [
    "unidentified_count = unidentified_df.groupby('State').count()\n",
    "# len(unidentified_count)\n",
    "unidentified_count.head()"
   ]
  },
  {
   "cell_type": "code",
   "execution_count": null,
   "metadata": {},
   "outputs": [],
   "source": [
    "# Remove all columns except case number count\n",
    "unidentified_count = unidentified_count.drop(columns=['DBF','Age From', 'Age To', 'City', 'County', 'Sex', 'Race / Ethnicity', 'Date Modified'])"
   ]
  },
  {
   "cell_type": "code",
   "execution_count": null,
   "metadata": {},
   "outputs": [],
   "source": [
    "# add column for state (since state is now index)\n",
    "unidentified_count['State'] = unidentified_count.index"
   ]
  },
  {
   "cell_type": "code",
   "execution_count": null,
   "metadata": {},
   "outputs": [],
   "source": [
    "# rename case number count column\n",
    "unidentified_count = unidentified_count.rename(columns = {'Case Number': 'Unidentified_CaseCount'}, inplace = False)"
   ]
  },
  {
   "cell_type": "code",
   "execution_count": null,
   "metadata": {},
   "outputs": [],
   "source": [
    "# check dataframe\n",
    "unidentified_count.head()"
   ]
  },
  {
   "cell_type": "code",
   "execution_count": null,
   "metadata": {},
   "outputs": [],
   "source": [
    "# make dictionary of states and unidentified case counts\n",
    "unidentified_dict = dict(zip(unidentified_count.State, unidentified_count.Unidentified_CaseCount))\n",
    "len(unidentified_dict)\n",
    "# unidentified_dict"
   ]
  },
  {
   "cell_type": "code",
   "execution_count": null,
   "metadata": {},
   "outputs": [],
   "source": [
    "# Get count of values in unidentified database w/ no state assigned\n",
    "uni_null_series = unidentified_df.loc[unidentified_df['State'].isnull()].count()\n",
    "uni_null_ct = uni_null_series['Case Number']\n",
    "uni_null_ct"
   ]
  },
  {
   "cell_type": "markdown",
   "metadata": {},
   "source": [
    "### 4/4: Make summary dataframe"
   ]
  },
  {
   "cell_type": "code",
   "execution_count": null,
   "metadata": {},
   "outputs": [],
   "source": [
    "# make a new summary dataframe based on the state centroids\n",
    "summary_df = state_centroids_v2_df\n",
    "# sort by state name\n",
    "summary_df = summary_df.sort_values(by=['STATEFP'])\n",
    "summary_df.head()"
   ]
  },
  {
   "cell_type": "code",
   "execution_count": null,
   "metadata": {},
   "outputs": [],
   "source": [
    "len(summary_df)"
   ]
  },
  {
   "cell_type": "markdown",
   "metadata": {},
   "source": [
    "#### 4a: Add Missing Person count for each state"
   ]
  },
  {
   "cell_type": "code",
   "execution_count": null,
   "metadata": {},
   "outputs": [],
   "source": [
    "# Add new column to dataframe, using the state name field as a key in the missing_dict, to pull the correct missing case count for each state\n",
    "summary_df['Missing_Count'] = summary_df['NAME'].map(missing_dict)\n",
    "summary_df.head()"
   ]
  },
  {
   "cell_type": "markdown",
   "metadata": {},
   "source": [
    "#### 4b: Add Unclaimed Person count for each state"
   ]
  },
  {
   "cell_type": "code",
   "execution_count": null,
   "metadata": {},
   "outputs": [],
   "source": [
    "# Add new column to dataframe, using the state name field as a key in the unclaimed_dict, to pull the correct unclaimed case count for each state\n",
    "summary_df['Unclaimed_Count'] = summary_df['NAME'].map(unclaimed_dict)\n",
    "summary_df.head()"
   ]
  },
  {
   "cell_type": "code",
   "execution_count": null,
   "metadata": {},
   "outputs": [],
   "source": [
    "# Check null values [NOTE: seems fine to have nulls]\n",
    "unclaimed_null_df = summary_df.loc[summary_df['Unclaimed_Count'].isnull()]\n",
    "unclaimed_null_df"
   ]
  },
  {
   "cell_type": "code",
   "execution_count": null,
   "metadata": {},
   "outputs": [],
   "source": [
    "# # change NaN Unclaimed count for fake FIPS 99 to count of values in missing database w/ no state assigned (21)\n",
    "index_Series = summary_df.loc[summary_df['STATEFP']==99]\n",
    "index_None = index_Series.index[0]\n",
    "summary_df.loc[index_None, 'Unclaimed_Count'] = unc_null_ct\n",
    "# check value\n",
    "summary_df['Unclaimed_Count'][index_None]"
   ]
  },
  {
   "cell_type": "markdown",
   "metadata": {},
   "source": [
    "#### 4b: Add Unidentified Person count for each state"
   ]
  },
  {
   "cell_type": "code",
   "execution_count": null,
   "metadata": {},
   "outputs": [],
   "source": [
    "# Add new column to dataframe, using the state name field as a key in the unidentified_dict, to pull the correct unidentified case count for each state\n",
    "summary_df['Unidentified_Count'] = summary_df['NAME'].map(unidentified_dict)\n",
    "summary_df.head()"
   ]
  },
  {
   "cell_type": "code",
   "execution_count": null,
   "metadata": {},
   "outputs": [],
   "source": [
    "# Check null values [NOTE: seems fine to have nulls]\n",
    "unidentified_null_df = summary_df.loc[summary_df['Unidentified_Count'].isnull()]\n",
    "unidentified_null_df"
   ]
  },
  {
   "cell_type": "markdown",
   "metadata": {},
   "source": [
    "#### 4c: Add column for total count of cases in all three databases for each state"
   ]
  },
  {
   "cell_type": "code",
   "execution_count": null,
   "metadata": {},
   "outputs": [],
   "source": [
    "summary_df.head()"
   ]
  },
  {
   "cell_type": "code",
   "execution_count": null,
   "metadata": {},
   "outputs": [],
   "source": [
    "summary_df.iloc[:, -3]"
   ]
  },
  {
   "cell_type": "code",
   "execution_count": null,
   "metadata": {},
   "outputs": [],
   "source": [
    "# Note - may need to change -4 to -3, run, then change back to -4 and re-run. DON'T KNOW WHY\n",
    "summary_df['Total_Count'] = summary_df.iloc[:, -4:-1].sum(axis=1)\n",
    "summary_df.head(56)"
   ]
  },
  {
   "cell_type": "markdown",
   "metadata": {},
   "source": [
    "#### 4c: Convert to geodataframe and export as GeoJSON"
   ]
  },
  {
   "cell_type": "code",
   "execution_count": null,
   "metadata": {},
   "outputs": [],
   "source": [
    "# check final summary_df\n",
    "summary_df.head()"
   ]
  },
  {
   "cell_type": "code",
   "execution_count": null,
   "metadata": {},
   "outputs": [],
   "source": [
    "# Convert dataframe to geodataframe\n",
    "summary_gdf = gpd.GeoDataFrame(summary_df, geometry=gpd.points_from_xy(x=summary_df.Lon_dd, y=summary_df.Lat_dd))\n",
    "summary_gdf.head()"
   ]
  },
  {
   "cell_type": "code",
   "execution_count": null,
   "metadata": {},
   "outputs": [],
   "source": [
    "# write to geoJSON\n",
    "summary_gdf.to_file(\"JSON/summary_counts.json\", driver=\"GeoJSON\", encoding='utf-8')"
   ]
  },
  {
   "cell_type": "markdown",
   "metadata": {},
   "source": [
    "# Part 2 - Prep data by replacing null attribute values [NOT CITY, COUNTY, OR STATE - Those are addressed later]"
   ]
  },
  {
   "cell_type": "markdown",
   "metadata": {},
   "source": [
    "### Clean Missing dataframe"
   ]
  },
  {
   "cell_type": "markdown",
   "metadata": {},
   "source": [
    "##### Check for null values, and replace as needed"
   ]
  },
  {
   "cell_type": "code",
   "execution_count": null,
   "metadata": {},
   "outputs": [],
   "source": [
    "# check dataframe\n",
    "missing_df.head()"
   ]
  },
  {
   "cell_type": "code",
   "execution_count": null,
   "metadata": {},
   "outputs": [],
   "source": [
    "## Check if any rows with null value for DLC [NOTE: Leave as NaN]\n",
    "missing_attr_df = missing_df.loc[missing_df['DLC'].isnull()]\n",
    "# len(missing_attr_df)\n",
    "missing_attr_df"
   ]
  },
  {
   "cell_type": "code",
   "execution_count": null,
   "metadata": {},
   "outputs": [],
   "source": [
    "## Check if any rows with null value for Missing Age\n",
    "missing_attr_1_df = missing_df.loc[missing_df['Missing Age'].isnull()]\n",
    "# len(missing_attr_1_df)\n",
    "missing_attr_1_df"
   ]
  },
  {
   "cell_type": "code",
   "execution_count": null,
   "metadata": {},
   "outputs": [],
   "source": [
    "# Re-assign missing age values to be 'Unknown'\n",
    "missing_df['Missing Age'] = missing_df['Missing Age'].fillna('Unknown')\n",
    "missing_df.head()"
   ]
  },
  {
   "cell_type": "code",
   "execution_count": null,
   "metadata": {},
   "outputs": [],
   "source": [
    "## Double check re-assigned values\n",
    "missing_age_test_df = missing_df.loc[missing_df['Missing Age']=='Unknown']\n",
    "missing_age_test_df\n",
    "# len(missing_age_test_df)"
   ]
  },
  {
   "cell_type": "code",
   "execution_count": null,
   "metadata": {},
   "outputs": [],
   "source": [
    "## Check if any rows with null value for Race / Ethnicity\n",
    "missing_attr_2_df = missing_df.loc[missing_df['Race / Ethnicity'].isnull()]\n",
    "# len(missing_attr_2_df)\n",
    "missing_attr_2_df"
   ]
  },
  {
   "cell_type": "code",
   "execution_count": null,
   "metadata": {},
   "outputs": [],
   "source": [
    "# Re-assign missing race / ethnicity values to be 'Uncertain'\n",
    "missing_df['Race / Ethnicity'] = missing_df['Race / Ethnicity'].fillna('Uncertain')\n",
    "missing_df.head()"
   ]
  },
  {
   "cell_type": "code",
   "execution_count": null,
   "metadata": {},
   "outputs": [],
   "source": [
    "## Double check re-assigned values\n",
    "missing_race_test_df = missing_df.loc[missing_df['Race / Ethnicity']=='Uncertain']\n",
    "missing_race_test_df\n",
    "# len(missing_race_test_df)"
   ]
  },
  {
   "cell_type": "markdown",
   "metadata": {},
   "source": [
    "##### Force all names to lowercase then capitalize\n"
   ]
  },
  {
   "cell_type": "code",
   "execution_count": null,
   "metadata": {},
   "outputs": [],
   "source": [
    "# check dataframe\n",
    "missing_df.head()"
   ]
  },
  {
   "cell_type": "code",
   "execution_count": null,
   "metadata": {},
   "outputs": [],
   "source": [
    "missing_df['Last Name'] = missing_df['Last Name'].str.lower()\n",
    "missing_df.head()"
   ]
  },
  {
   "cell_type": "code",
   "execution_count": null,
   "metadata": {},
   "outputs": [],
   "source": [
    "missing_df['Last Name'] = missing_df['Last Name'].str.capitalize()\n",
    "missing_df.head()"
   ]
  },
  {
   "cell_type": "code",
   "execution_count": null,
   "metadata": {},
   "outputs": [],
   "source": [
    "missing_df['First Name'] = missing_df['First Name'].str.lower()\n",
    "missing_df.head()"
   ]
  },
  {
   "cell_type": "code",
   "execution_count": null,
   "metadata": {},
   "outputs": [],
   "source": [
    "missing_df['First Name'] = missing_df['First Name'].str.capitalize()\n",
    "missing_df.head()"
   ]
  },
  {
   "cell_type": "markdown",
   "metadata": {},
   "source": [
    "### Clean Unclaimed dataframe"
   ]
  },
  {
   "cell_type": "markdown",
   "metadata": {},
   "source": [
    "##### Check for null values, and replace as needed"
   ]
  },
  {
   "cell_type": "code",
   "execution_count": null,
   "metadata": {},
   "outputs": [],
   "source": [
    "# check dataframe\n",
    "unclaimed_df.head()"
   ]
  },
  {
   "cell_type": "code",
   "execution_count": null,
   "metadata": {},
   "outputs": [],
   "source": [
    "## Check if any rows with null value for DBF [NOTE: Leave as NaN]\n",
    "unclaimed_attr_df = unclaimed_df.loc[unclaimed_df['DBF'].isnull()]\n",
    "# len(unclaimed_attr_df)\n",
    "unclaimed_attr_df"
   ]
  },
  {
   "cell_type": "code",
   "execution_count": null,
   "metadata": {},
   "outputs": [],
   "source": [
    "## Check if any rows with null value for last name\n",
    "unclaimed_attr_1_df = unclaimed_df.loc[unclaimed_df['Last Name'].isnull()]\n",
    "# len(unclaimed_attr_1_df)\n",
    "unclaimed_attr_1_df"
   ]
  },
  {
   "cell_type": "code",
   "execution_count": null,
   "metadata": {},
   "outputs": [],
   "source": [
    "# Re-assign missing last name values to be 'Unknown'\n",
    "unclaimed_df['Last Name'] = unclaimed_df['Last Name'].fillna('Unknown')\n",
    "unclaimed_df.head()"
   ]
  },
  {
   "cell_type": "code",
   "execution_count": null,
   "metadata": {},
   "outputs": [],
   "source": [
    "## Double check re-assigned values\n",
    "unclaimed_lname_test_df = unclaimed_df.loc[unclaimed_df['Last Name']=='Unknown']\n",
    "unclaimed_lname_test_df\n",
    "# len(unclaimed_lname_test_df)"
   ]
  },
  {
   "cell_type": "code",
   "execution_count": null,
   "metadata": {},
   "outputs": [],
   "source": [
    "## Check if any rows with null value for first name\n",
    "unclaimed_attr_2_df = unclaimed_df.loc[unclaimed_df['First Name'].isnull()]\n",
    "# len(unclaimed_attr_2_df)\n",
    "unclaimed_attr_2_df"
   ]
  },
  {
   "cell_type": "code",
   "execution_count": null,
   "metadata": {},
   "outputs": [],
   "source": [
    "# Re-assign missing first name values to be 'Unknown'\n",
    "unclaimed_df['First Name'] = unclaimed_df['First Name'].fillna('Unknown')\n",
    "unclaimed_df.head()"
   ]
  },
  {
   "cell_type": "code",
   "execution_count": null,
   "metadata": {},
   "outputs": [],
   "source": [
    "## Double check re-assigned values\n",
    "unclaimed_fname_test_df = unclaimed_df.loc[unclaimed_df['First Name']=='Unknown']\n",
    "unclaimed_fname_test_df\n",
    "# len(unclaimed_fname_test_df)"
   ]
  },
  {
   "cell_type": "code",
   "execution_count": null,
   "metadata": {},
   "outputs": [],
   "source": [
    "## Check if any rows with null value for sex\n",
    "unclaimed_attr_3_df = unclaimed_df.loc[unclaimed_df['Sex'].isnull()]\n",
    "# len(unclaimed_attr_3_df)\n",
    "unclaimed_attr_3_df"
   ]
  },
  {
   "cell_type": "code",
   "execution_count": null,
   "metadata": {},
   "outputs": [],
   "source": [
    "# Re-assign missing sex values to be 'Unknown'\n",
    "unclaimed_df['Sex'] = unclaimed_df['Sex'].fillna('Unknown')\n",
    "unclaimed_df.head()"
   ]
  },
  {
   "cell_type": "code",
   "execution_count": null,
   "metadata": {},
   "outputs": [],
   "source": [
    "## Double check re-assigned values\n",
    "unclaimed_sex_test_df = unclaimed_df.loc[unclaimed_df['Sex']=='Unknown']\n",
    "unclaimed_sex_test_df\n",
    "# len(unclaimed_sex_test_df)"
   ]
  },
  {
   "cell_type": "code",
   "execution_count": null,
   "metadata": {},
   "outputs": [],
   "source": [
    "## Check if any rows with null value for race / ethnicity\n",
    "unclaimed_attr_4_df = unclaimed_df.loc[unclaimed_df['Race / Ethnicity'].isnull()]\n",
    "# len(unclaimed_attr_4_df)\n",
    "unclaimed_attr_4_df"
   ]
  },
  {
   "cell_type": "code",
   "execution_count": null,
   "metadata": {},
   "outputs": [],
   "source": [
    "# Re-assign missing race / ethnicity values to be 'Uncertain'\n",
    "unclaimed_df['Race / Ethnicity'] = unclaimed_df['Race / Ethnicity'].fillna('Uncertain')\n",
    "unclaimed_df.head()"
   ]
  },
  {
   "cell_type": "code",
   "execution_count": null,
   "metadata": {},
   "outputs": [],
   "source": [
    "## Double check re-assigned values\n",
    "unclaimed_race_test_df = unclaimed_df.loc[unclaimed_df['Race / Ethnicity']=='Uncertain']\n",
    "unclaimed_race_test_df\n",
    "# len(unclaimed_race_test_df)"
   ]
  },
  {
   "cell_type": "markdown",
   "metadata": {},
   "source": [
    "##### Force all names to lowercase, then capitalize"
   ]
  },
  {
   "cell_type": "code",
   "execution_count": null,
   "metadata": {},
   "outputs": [],
   "source": [
    "# check dataframe\n",
    "unclaimed_df.head()"
   ]
  },
  {
   "cell_type": "code",
   "execution_count": null,
   "metadata": {},
   "outputs": [],
   "source": [
    "unclaimed_df['Last Name'] = unclaimed_df['Last Name'].str.lower()\n",
    "unclaimed_df.head()"
   ]
  },
  {
   "cell_type": "code",
   "execution_count": null,
   "metadata": {},
   "outputs": [],
   "source": [
    "unclaimed_df['Last Name'] = unclaimed_df['Last Name'].str.capitalize()\n",
    "unclaimed_df.head()"
   ]
  },
  {
   "cell_type": "code",
   "execution_count": null,
   "metadata": {},
   "outputs": [],
   "source": [
    "unclaimed_df['First Name'] = unclaimed_df['First Name'].str.lower()\n",
    "unclaimed_df.head()"
   ]
  },
  {
   "cell_type": "code",
   "execution_count": null,
   "metadata": {},
   "outputs": [],
   "source": [
    "unclaimed_df['First Name'] = unclaimed_df['First Name'].str.capitalize()\n",
    "unclaimed_df.head()"
   ]
  },
  {
   "cell_type": "markdown",
   "metadata": {},
   "source": [
    "### Clean Unidentified dataframe"
   ]
  },
  {
   "cell_type": "markdown",
   "metadata": {},
   "source": [
    "##### Check for null values, and replace as needed"
   ]
  },
  {
   "cell_type": "code",
   "execution_count": null,
   "metadata": {},
   "outputs": [],
   "source": [
    "# check dataframe\n",
    "unidentified_df.head()"
   ]
  },
  {
   "cell_type": "code",
   "execution_count": null,
   "metadata": {},
   "outputs": [],
   "source": [
    "## Check if any rows with null value for DBF [NOTE: Leave as NaN]\n",
    "unidentified_attr_df = unidentified_df.loc[unidentified_df['DBF'].isnull()]\n",
    "# len(unidentified_attr_df)\n",
    "unidentified_attr_df"
   ]
  },
  {
   "cell_type": "code",
   "execution_count": null,
   "metadata": {},
   "outputs": [],
   "source": [
    "## Check if any rows with null value for Age From\n",
    "unidentified_attr_1_df = unidentified_df.loc[unidentified_df['Age From'].isnull()]\n",
    "# len(unidentified_attr_1_df)\n",
    "unidentified_attr_1_df"
   ]
  },
  {
   "cell_type": "code",
   "execution_count": null,
   "metadata": {},
   "outputs": [],
   "source": [
    "# Re-assign missing age from values to be 0\n",
    "unidentified_df['Age From'] = unidentified_df['Age From'].fillna(0)\n",
    "unidentified_df.head()"
   ]
  },
  {
   "cell_type": "code",
   "execution_count": null,
   "metadata": {},
   "outputs": [],
   "source": [
    "## Double check re-assigned values\n",
    "unidentified_agefrom_test_df = unidentified_df.loc[unidentified_df['Age From']==0]\n",
    "unidentified_agefrom_test_df\n",
    "# len(unidentified_agefrom_test_df)"
   ]
  },
  {
   "cell_type": "code",
   "execution_count": null,
   "metadata": {},
   "outputs": [],
   "source": [
    "## Check if any rows with null value for Age To\n",
    "unidentified_attr_2_df = unidentified_df.loc[unidentified_df['Age To'].isnull()]\n",
    "# len(unidentified_attr_2_df)\n",
    "unidentified_attr_2_df"
   ]
  },
  {
   "cell_type": "code",
   "execution_count": null,
   "metadata": {},
   "outputs": [],
   "source": [
    "# Re-assign missing age to values to be 120\n",
    "unidentified_df['Age To'] = unidentified_df['Age To'].fillna(120)\n",
    "unidentified_df.head()"
   ]
  },
  {
   "cell_type": "code",
   "execution_count": null,
   "metadata": {},
   "outputs": [],
   "source": [
    "## Double check re-assigned values\n",
    "unidentified_ageto_test_df = unidentified_df.loc[unidentified_df['Age To']==120]\n",
    "unidentified_ageto_test_df\n",
    "# len(unidentified_ageto_test_df)"
   ]
  },
  {
   "cell_type": "code",
   "execution_count": null,
   "metadata": {},
   "outputs": [],
   "source": [
    "## Check if any rows with null value for sex\n",
    "unidentified_attr_3_df = unidentified_df.loc[unidentified_df['Sex'].isnull()]\n",
    "# len(unidentified_attr_3_df)\n",
    "unidentified_attr_3_df"
   ]
  },
  {
   "cell_type": "code",
   "execution_count": null,
   "metadata": {},
   "outputs": [],
   "source": [
    "# Re-assign missing sex values to be 'Unknown'\n",
    "unidentified_df['Sex'] = unidentified_df['Sex'].fillna('Unknown')\n",
    "unidentified_df.head()"
   ]
  },
  {
   "cell_type": "code",
   "execution_count": null,
   "metadata": {},
   "outputs": [],
   "source": [
    "## Double check re-assigned values\n",
    "unidentified_sex_test_df = unidentified_df.loc[unidentified_df['Sex']=='Unknown']\n",
    "unidentified_sex_test_df\n",
    "# len(unidentified_sex_test_df)"
   ]
  },
  {
   "cell_type": "code",
   "execution_count": null,
   "metadata": {},
   "outputs": [],
   "source": [
    "## Check if any rows with null value for race / ethnicity\n",
    "unidentified_attr_4_df = unidentified_df.loc[unidentified_df['Race / Ethnicity'].isnull()]\n",
    "# len(unidentified_attr_4_df)\n",
    "unidentified_attr_4_df"
   ]
  },
  {
   "cell_type": "code",
   "execution_count": null,
   "metadata": {},
   "outputs": [],
   "source": [
    "# Re-assign missing race / ethnicity values to be 'Uncertain'\n",
    "unidentified_df['Race / Ethnicity'] = unidentified_df['Race / Ethnicity'].fillna('Uncertain')\n",
    "unidentified_df.head()"
   ]
  },
  {
   "cell_type": "code",
   "execution_count": null,
   "metadata": {},
   "outputs": [],
   "source": [
    "## Double check re-assigned values\n",
    "unidentified_race_test_df = unidentified_df.loc[unidentified_df['Race / Ethnicity']=='Uncertain']\n",
    "unidentified_race_test_df\n",
    "# len(unidentified_race_test_df)"
   ]
  },
  {
   "cell_type": "markdown",
   "metadata": {},
   "source": [
    "# Part 3 - Prep data for state-level GeoJSON with data from all 3 databases"
   ]
  },
  {
   "cell_type": "markdown",
   "metadata": {},
   "source": [
    "### 2a: Add in State FIPS column to each database dataframe"
   ]
  },
  {
   "cell_type": "code",
   "execution_count": null,
   "metadata": {},
   "outputs": [],
   "source": [
    "# make dictionary of states and state FIPS code\n",
    "state_dict = dict(zip(state_centroids_df.NAME, state_centroids_df.STATEFP))\n",
    "# state_dict\n",
    "# state_dict['Alaska']\n",
    "len(state_dict)"
   ]
  },
  {
   "cell_type": "markdown",
   "metadata": {},
   "source": [
    "#### 1/3: add state FIPS codes to missing persons dataframe"
   ]
  },
  {
   "cell_type": "code",
   "execution_count": null,
   "metadata": {},
   "outputs": [],
   "source": [
    "missing_df.head()"
   ]
  },
  {
   "cell_type": "code",
   "execution_count": null,
   "metadata": {},
   "outputs": [],
   "source": [
    "# Add new column to dataframe, using the state name field as a key in the state_dict, to pull the correct FIPS code for each row\n",
    "missing_df['State_FIPS'] = missing_df['State'].map(state_dict)\n",
    "missing_df.head()"
   ]
  },
  {
   "cell_type": "code",
   "execution_count": null,
   "metadata": {},
   "outputs": [],
   "source": [
    "# Check unique values in new dataframe field\n",
    "missing_df['State_FIPS'].unique()"
   ]
  },
  {
   "cell_type": "code",
   "execution_count": null,
   "metadata": {},
   "outputs": [],
   "source": [
    "## If any nulls, check to see what is producing null values [NOTE: fixed by making changes to csv fields, as noted where csvs are imported]\n",
    "mis_test_df = missing_df.loc[missing_df['State_FIPS'].isnull()]\n",
    "mis_test_df.head()"
   ]
  },
  {
   "cell_type": "code",
   "execution_count": null,
   "metadata": {},
   "outputs": [],
   "source": [
    "# check missing df\n",
    "missing_df.head()\n",
    "# len(missing_df)"
   ]
  },
  {
   "cell_type": "markdown",
   "metadata": {},
   "source": [
    "#### 2/3: add state FIPS codes to unclaimed persons dataframe"
   ]
  },
  {
   "cell_type": "code",
   "execution_count": null,
   "metadata": {},
   "outputs": [],
   "source": [
    "unclaimed_df.head()\n",
    "# len(unclaimed_df)"
   ]
  },
  {
   "cell_type": "code",
   "execution_count": null,
   "metadata": {},
   "outputs": [],
   "source": [
    "# Add new column to dataframe, using the state name field as a key in the state_dict, to pull the correct FIPS code for each row\n",
    "unclaimed_df['State_FIPS'] = unclaimed_df['State'].map(state_dict)\n",
    "unclaimed_df.head()"
   ]
  },
  {
   "cell_type": "code",
   "execution_count": null,
   "metadata": {},
   "outputs": [],
   "source": [
    "# Check unique values in new dataframe field\n",
    "unclaimed_df['State_FIPS'].unique()"
   ]
  },
  {
   "cell_type": "code",
   "execution_count": null,
   "metadata": {},
   "outputs": [],
   "source": [
    "## If any nulls, check to see what is producing null values [NOTE: cannot be addressed, as these cases do not have a state or county assigned]\n",
    "unc_test_df = unclaimed_df.loc[unclaimed_df['State_FIPS'].isnull()]\n",
    "# len(unc_test_df)\n",
    "unc_test_df"
   ]
  },
  {
   "cell_type": "code",
   "execution_count": null,
   "metadata": {},
   "outputs": [],
   "source": [
    "# # change NaN FIPS codes (for cases with no city, county or state) to 99 (none option in state_centroids_v2.csv)\n",
    "unclaimed_df['State_FIPS'] = unclaimed_df['State_FIPS'].fillna(99)\n",
    "unclaimed_df['State_FIPS'] = unclaimed_df['State_FIPS'].astype(int)\n",
    "unclaimed_df.head()"
   ]
  },
  {
   "cell_type": "code",
   "execution_count": null,
   "metadata": {},
   "outputs": [],
   "source": [
    "## Double check re-assigned values\n",
    "unc_test_df2 = unclaimed_df.loc[unclaimed_df['State_FIPS']==99]\n",
    "unc_test_df2\n",
    "# len(unc_test_df2)"
   ]
  },
  {
   "cell_type": "code",
   "execution_count": null,
   "metadata": {},
   "outputs": [],
   "source": [
    "# check full dataframe\n",
    "len(unclaimed_df)"
   ]
  },
  {
   "cell_type": "markdown",
   "metadata": {},
   "source": [
    "#### 3/3: add state FIPS codes to unidentified persons dataframe"
   ]
  },
  {
   "cell_type": "code",
   "execution_count": null,
   "metadata": {},
   "outputs": [],
   "source": [
    "unidentified_df.head()"
   ]
  },
  {
   "cell_type": "code",
   "execution_count": null,
   "metadata": {},
   "outputs": [],
   "source": [
    "# Add new column to dataframe, using the state name field as a key in the state_dict, to pull the correct FIPS code for each row\n",
    "unidentified_df['State_FIPS'] = unidentified_df['State'].map(state_dict)\n",
    "unidentified_df.head()"
   ]
  },
  {
   "cell_type": "code",
   "execution_count": null,
   "metadata": {},
   "outputs": [],
   "source": [
    "# Check unique values in new dataframe field\n",
    "unidentified_df['State_FIPS'].unique()"
   ]
  },
  {
   "cell_type": "code",
   "execution_count": null,
   "metadata": {},
   "outputs": [],
   "source": [
    "## If any nulls, check to see what is producing null values [NOTE: fixed by making changes to csv fields, as noted where csvs are imported]\n",
    "uni_test_df = unidentified_df.loc[unidentified_df['State_FIPS'].isnull()]\n",
    "uni_test_df.head()"
   ]
  },
  {
   "cell_type": "markdown",
   "metadata": {},
   "source": [
    "# Part 4: Prep data for county-level JSONs for all 3 databases"
   ]
  },
  {
   "cell_type": "markdown",
   "metadata": {},
   "source": [
    "#### Add in State name and County_Key columns to county centroid v2 dataframe"
   ]
  },
  {
   "cell_type": "code",
   "execution_count": null,
   "metadata": {},
   "outputs": [],
   "source": [
    "# make dictionary of state FIPS codes and state names\n",
    "state_FIPS_dict = dict(zip(state_centroids_v2_df.STATEFP, state_centroids_v2_df.NAME))\n",
    "# state_FIPS_dict\n",
    "# state_FIPS_dict['Alaska']\n",
    "len(state_FIPS_dict)"
   ]
  },
  {
   "cell_type": "code",
   "execution_count": null,
   "metadata": {},
   "outputs": [],
   "source": [
    "# check county centroids v2 df\n",
    "county_centroids_v2_df.head()"
   ]
  },
  {
   "cell_type": "code",
   "execution_count": null,
   "metadata": {},
   "outputs": [],
   "source": [
    "# Add new column to dataframe, using the state name field as a key in the state_dict, to pull the correct FIPS code for each row\n",
    "county_centroids_v2_df['STATE_NAME'] = county_centroids_v2_df['STATEFP'].map(state_FIPS_dict)\n",
    "# check dataframe\n",
    "county_centroids_v2_df.head()\n",
    "# Check unique values in new dataframe field\n",
    "# county_centroids_v2_df['STATE_NAME'].unique()"
   ]
  },
  {
   "cell_type": "code",
   "execution_count": null,
   "metadata": {},
   "outputs": [],
   "source": [
    "# sort county centroids by state FIPS\n",
    "county_centroids_v2_df = county_centroids_v2_df.sort_values(by=['STATEFP'])\n",
    "county_centroids_v2_df.head()"
   ]
  },
  {
   "cell_type": "code",
   "execution_count": null,
   "metadata": {},
   "outputs": [],
   "source": [
    "# Add column with compound field key\n",
    "county_centroids_v2_df['County_Key'] = county_centroids_v2_df['STATEFP'].astype(str) + \"_\" + county_centroids_v2_df['NAME']\n",
    "county_centroids_v2_df.head()"
   ]
  },
  {
   "cell_type": "code",
   "execution_count": null,
   "metadata": {},
   "outputs": [],
   "source": [
    "# check unique values and length\n",
    "county_key_v2_list = county_centroids_v2_df['County_Key'].unique()\n",
    "len(county_key_v2_list)"
   ]
  },
  {
   "cell_type": "code",
   "execution_count": null,
   "metadata": {},
   "outputs": [],
   "source": [
    "# make dictionary of counties and county FIPS code (GEOID field)\n",
    "county_v2_dict = dict(zip(county_centroids_v2_df.County_Key, county_centroids_v2_df.GEOID))\n",
    "len(county_v2_dict)"
   ]
  },
  {
   "cell_type": "markdown",
   "metadata": {},
   "source": [
    "#### Add in County_key column to county centroids dataframe"
   ]
  },
  {
   "cell_type": "code",
   "execution_count": null,
   "metadata": {},
   "outputs": [],
   "source": [
    "# sort county centroids by state FIPS\n",
    "county_centroids_df = county_centroids_df.sort_values(by=['STATEFP'])\n",
    "county_centroids_df.head()"
   ]
  },
  {
   "cell_type": "code",
   "execution_count": null,
   "metadata": {},
   "outputs": [],
   "source": [
    "# Add column with compound field key\n",
    "county_centroids_df['County_Key'] = county_centroids_df['STATEFP'].astype(str) + \"_\" + county_centroids_df['NAME']\n",
    "county_centroids_df.head()"
   ]
  },
  {
   "cell_type": "code",
   "execution_count": null,
   "metadata": {},
   "outputs": [],
   "source": [
    "# check unique values and length\n",
    "county_key_list = county_centroids_df['County_Key'].unique()\n",
    "len(county_key_list)"
   ]
  },
  {
   "cell_type": "code",
   "execution_count": null,
   "metadata": {},
   "outputs": [],
   "source": [
    "# make dictionary of counties and county FIPS code (GEOID field)\n",
    "county_dict = dict(zip(county_centroids_df.County_Key, county_centroids_df.GEOID))\n",
    "len(county_dict)"
   ]
  },
  {
   "cell_type": "markdown",
   "metadata": {},
   "source": [
    "#### Add in County FIPS column to missing dataframe"
   ]
  },
  {
   "cell_type": "markdown",
   "metadata": {},
   "source": [
    "##### To identify null values, add in County FIPS column to missing dataframe using county_centroids_df"
   ]
  },
  {
   "cell_type": "code",
   "execution_count": null,
   "metadata": {},
   "outputs": [],
   "source": [
    "# check missing df\n",
    "missing_df.head()"
   ]
  },
  {
   "cell_type": "code",
   "execution_count": null,
   "metadata": {},
   "outputs": [],
   "source": [
    "# Add column with compound field key\n",
    "missing_df['State_County'] = missing_df['State_FIPS'].astype(str) + \"_\" + missing_df['County']\n",
    "missing_df.head()"
   ]
  },
  {
   "cell_type": "code",
   "execution_count": null,
   "metadata": {},
   "outputs": [],
   "source": [
    "# Add new column to dataframe, using the State_County name field as a key in the county_dict, to pull the correct County FIPS code for each row\n",
    "missing_df['County_FIPS'] = missing_df['State_County'].map(county_dict)\n",
    "# Check unique values in new dataframe field\n",
    "missing_df['County_FIPS'].unique()"
   ]
  },
  {
   "cell_type": "code",
   "execution_count": null,
   "metadata": {},
   "outputs": [],
   "source": [
    "# check null values [NOTE: all ok - no city or county assigned]\n",
    "missing_county_null_df = missing_df.loc[missing_df['County_FIPS'].isnull()]\n",
    "# missing_county_null_df.shape\n",
    "missing_county_null_df"
   ]
  },
  {
   "cell_type": "code",
   "execution_count": null,
   "metadata": {},
   "outputs": [],
   "source": [
    "# As needed, export nulls to address [NOTE: all that can have been addressed]\n",
    "# missing_county_null_df.to_csv('missing_county_nulls.csv', encoding='Windows-1252')"
   ]
  },
  {
   "cell_type": "code",
   "execution_count": null,
   "metadata": {},
   "outputs": [],
   "source": [
    "# check missing_df\n",
    "missing_df.head()"
   ]
  },
  {
   "cell_type": "markdown",
   "metadata": {},
   "source": [
    "##### Replace null state values with 'None' and null county values with 'None', then re-write county_FIPS column using county_centroids_v2_dataframe"
   ]
  },
  {
   "cell_type": "code",
   "execution_count": null,
   "metadata": {},
   "outputs": [],
   "source": [
    "## Check if any rows with null value for 'State'\n",
    "mis_state_test_df = missing_df.loc[missing_df['State'].isnull()]\n",
    "# len(mis_state_test_df)\n",
    "mis_state_test_df"
   ]
  },
  {
   "cell_type": "code",
   "execution_count": null,
   "metadata": {},
   "outputs": [],
   "source": [
    "## Check if any rows with null value for 'City' and County'\n",
    "mis_county_test_df = missing_df.loc[missing_df['County'].isnull()]\n",
    "# len(mis_county_test_df)\n",
    "mis_county_test_df"
   ]
  },
  {
   "cell_type": "code",
   "execution_count": null,
   "metadata": {},
   "outputs": [],
   "source": [
    "# # change NaN County name (for cases with no city or county) to 'None'\n",
    "missing_df['County'] = missing_df['County'].fillna('None')\n",
    "missing_df.head()"
   ]
  },
  {
   "cell_type": "code",
   "execution_count": null,
   "metadata": {},
   "outputs": [],
   "source": [
    "## Double check re-assigned values\n",
    "mis_county_test_2_df = missing_df.loc[missing_df['County']=='None']\n",
    "mis_county_test_2_df\n",
    "# len(mis_county_test_2_df)"
   ]
  },
  {
   "cell_type": "code",
   "execution_count": null,
   "metadata": {},
   "outputs": [],
   "source": [
    "# Re-Add column with compound field key\n",
    "missing_df['State_County'] = missing_df['State_FIPS'].astype(str) + \"_\" + missing_df['County']\n",
    "missing_df.head()"
   ]
  },
  {
   "cell_type": "code",
   "execution_count": null,
   "metadata": {},
   "outputs": [],
   "source": [
    "## Double check re-assigned values\n",
    "mis_county_test_3_df = missing_df.loc[missing_df['County']=='None']\n",
    "mis_county_test_3_df\n",
    "# len(mis_county_test_3_df)"
   ]
  },
  {
   "cell_type": "code",
   "execution_count": null,
   "metadata": {},
   "outputs": [],
   "source": [
    "# Re-add County FIPS column to dataframe, using the State_County name field as a key in the county_v2_dict, to pull the correct County FIPS code for each row\n",
    "missing_df['County_FIPS'] = missing_df['State_County'].map(county_v2_dict)\n",
    "# Check unique values in new dataframe field\n",
    "missing_df['County_FIPS'].unique()"
   ]
  },
  {
   "cell_type": "code",
   "execution_count": null,
   "metadata": {},
   "outputs": [],
   "source": [
    "# check null values to make sure none are left [Note - all gone!]\n",
    "missing_county_null_v2_df = missing_df.loc[missing_df['County_FIPS'].isnull()]\n",
    "# missing_county_null_v2_df.shape\n",
    "missing_county_null_v2_df"
   ]
  },
  {
   "cell_type": "code",
   "execution_count": null,
   "metadata": {},
   "outputs": [],
   "source": [
    "## Double check re-assigned values\n",
    "mis_county_test_4_df = missing_df.loc[missing_df['County']=='None']\n",
    "mis_county_test_4_df\n",
    "# len(mis_county_test_4_df)"
   ]
  },
  {
   "cell_type": "markdown",
   "metadata": {},
   "source": [
    "#### Add in County FIPS column to unclaimed dataframe"
   ]
  },
  {
   "cell_type": "markdown",
   "metadata": {},
   "source": [
    "##### To identify null values, add in County FIPS column to unclaimed dataframe using county_centroids_df"
   ]
  },
  {
   "cell_type": "code",
   "execution_count": null,
   "metadata": {},
   "outputs": [],
   "source": [
    "# check unclaimed df\n",
    "unclaimed_df.head()"
   ]
  },
  {
   "cell_type": "code",
   "execution_count": null,
   "metadata": {},
   "outputs": [],
   "source": [
    "# Add column with compound field key\n",
    "unclaimed_df['State_County'] = unclaimed_df['State_FIPS'].astype(str) + \"_\" + unclaimed_df['County']\n",
    "unclaimed_df.head()"
   ]
  },
  {
   "cell_type": "code",
   "execution_count": null,
   "metadata": {},
   "outputs": [],
   "source": [
    "# Add new column to dataframe, using the state name field as a key in the state_dict, to pull the correct FIPS code for each row\n",
    "unclaimed_df['County_FIPS'] = unclaimed_df['State_County'].map(county_dict)\n",
    "# Check unique values in new dataframe field\n",
    "unclaimed_df['County_FIPS'].unique()"
   ]
  },
  {
   "cell_type": "code",
   "execution_count": null,
   "metadata": {},
   "outputs": [],
   "source": [
    "# check null values\n",
    "unclaimed_county_null_df = unclaimed_df.loc[unclaimed_df['County_FIPS'].isnull()]\n",
    "# unclaimed_county_null_df.shape\n",
    "unclaimed_county_null_df"
   ]
  },
  {
   "cell_type": "code",
   "execution_count": null,
   "metadata": {},
   "outputs": [],
   "source": [
    "# As needed, export nulls to address [NOTE: all have been addressed. 1241 cases have no county]\n",
    "# unclaimed_county_null_df.to_csv('unclaimed_county_nulls.csv', encoding='Windows-1252')"
   ]
  },
  {
   "cell_type": "code",
   "execution_count": null,
   "metadata": {},
   "outputs": [],
   "source": [
    "# check unclaimed_df\n",
    "unclaimed_df.head()"
   ]
  },
  {
   "cell_type": "markdown",
   "metadata": {},
   "source": [
    "##### Replace null state values with 'None' and null county values with 'None', then re-write county_FIPS column using county_centroids_v2_dataframe"
   ]
  },
  {
   "cell_type": "code",
   "execution_count": null,
   "metadata": {},
   "outputs": [],
   "source": [
    "## Check if any rows with null value for 'State'\n",
    "unc_state_test_df = unclaimed_df.loc[unclaimed_df['State'].isnull()]\n",
    "# len(unc_state_test_df)\n",
    "unc_state_test_df"
   ]
  },
  {
   "cell_type": "code",
   "execution_count": null,
   "metadata": {},
   "outputs": [],
   "source": [
    "# # change NaN State name (for cases with no city or county or state) to 'None'\n",
    "unclaimed_df['State'] = unclaimed_df['State'].fillna('None')\n",
    "unclaimed_df.head()"
   ]
  },
  {
   "cell_type": "code",
   "execution_count": null,
   "metadata": {},
   "outputs": [],
   "source": [
    "## Double check re-assigned values\n",
    "unc_state_test_2_df = unclaimed_df.loc[unclaimed_df['State']=='None']\n",
    "unc_state_test_2_df\n",
    "# len(unc_state_test_2_df)"
   ]
  },
  {
   "cell_type": "code",
   "execution_count": null,
   "metadata": {},
   "outputs": [],
   "source": [
    "## Check if any rows with null value for 'City' and County'\n",
    "unc_county_test_df = unclaimed_df.loc[unclaimed_df['County'].isnull()]\n",
    "# len(unc_county_test_df)\n",
    "unc_county_test_df"
   ]
  },
  {
   "cell_type": "code",
   "execution_count": null,
   "metadata": {},
   "outputs": [],
   "source": [
    "# # change NaN County name (for cases with no city or county) to 'None'\n",
    "unclaimed_df['County'] = unclaimed_df['County'].fillna('None')\n",
    "unclaimed_df.head()"
   ]
  },
  {
   "cell_type": "code",
   "execution_count": null,
   "metadata": {},
   "outputs": [],
   "source": [
    "## Double check re-assigned values\n",
    "unc_county_test_2_df = unclaimed_df.loc[unclaimed_df['County']=='None']\n",
    "unc_county_test_2_df\n",
    "# len(unc_county_test_2_df)"
   ]
  },
  {
   "cell_type": "code",
   "execution_count": null,
   "metadata": {},
   "outputs": [],
   "source": [
    "# Re-Add column with compound field key\n",
    "unclaimed_df['State_County'] = unclaimed_df['State_FIPS'].astype(str) + \"_\" + unclaimed_df['County']\n",
    "unclaimed_df.head()"
   ]
  },
  {
   "cell_type": "code",
   "execution_count": null,
   "metadata": {},
   "outputs": [],
   "source": [
    "## Double check re-assigned values\n",
    "unc_county_test_3_df = unclaimed_df.loc[unclaimed_df['County']=='None']\n",
    "unc_county_test_3_df\n",
    "# len(unc_county_test_3_df)"
   ]
  },
  {
   "cell_type": "code",
   "execution_count": null,
   "metadata": {},
   "outputs": [],
   "source": [
    "# Re-add County FIPS column to dataframe, using the State_County name field as a key in the county_v2_dict, to pull the correct County FIPS code for each row\n",
    "unclaimed_df['County_FIPS'] = unclaimed_df['State_County'].map(county_v2_dict)\n",
    "# Check unique values in new dataframe field\n",
    "unclaimed_df['County_FIPS'].unique()"
   ]
  },
  {
   "cell_type": "code",
   "execution_count": null,
   "metadata": {},
   "outputs": [],
   "source": [
    "# check null values to make sure none are left [Note - all gone!]\n",
    "unclaimed_county_null_v2_df = unclaimed_df.loc[unclaimed_df['County_FIPS'].isnull()]\n",
    "# unclaimed_county_null_v2_df.shape\n",
    "unclaimed_county_null_v2_df"
   ]
  },
  {
   "cell_type": "code",
   "execution_count": null,
   "metadata": {},
   "outputs": [],
   "source": [
    "## Double check re-assigned values\n",
    "unc_county_test_4_df = unclaimed_df.loc[unclaimed_df['County']=='None']\n",
    "unc_county_test_4_df\n",
    "# len(unc_county_test_4_df)"
   ]
  },
  {
   "cell_type": "markdown",
   "metadata": {},
   "source": [
    "#### Add in County FIPS column to unidentified dataframe"
   ]
  },
  {
   "cell_type": "markdown",
   "metadata": {},
   "source": [
    "##### To identify null values, add in County FIPS column to unidentified dataframe using county_centroids_df"
   ]
  },
  {
   "cell_type": "code",
   "execution_count": null,
   "metadata": {},
   "outputs": [],
   "source": [
    "# check unidentified df\n",
    "unidentified_df.head()"
   ]
  },
  {
   "cell_type": "code",
   "execution_count": null,
   "metadata": {},
   "outputs": [],
   "source": [
    "# Add column with compound field key\n",
    "unidentified_df['State_County'] = unidentified_df['State_FIPS'].astype(str) + \"_\" + unidentified_df['County']\n",
    "unidentified_df.head()"
   ]
  },
  {
   "cell_type": "code",
   "execution_count": null,
   "metadata": {},
   "outputs": [],
   "source": [
    "# Add new column to dataframe, using the state name field as a key in the state_dict, to pull the correct FIPS code for each row\n",
    "unidentified_df['County_FIPS'] = unidentified_df['State_County'].map(county_dict)\n",
    "# Check unique values in new dataframe field\n",
    "unidentified_df['County_FIPS'].unique()"
   ]
  },
  {
   "cell_type": "code",
   "execution_count": null,
   "metadata": {},
   "outputs": [],
   "source": [
    "# check null values\n",
    "unidentified_county_null_df = unidentified_df.loc[unidentified_df['County_FIPS'].isnull()]\n",
    "# unidentified_county_null_df.shape\n",
    "# len(unidentified_county_null_df)\n",
    "unidentified_county_null_df"
   ]
  },
  {
   "cell_type": "code",
   "execution_count": null,
   "metadata": {},
   "outputs": [],
   "source": [
    "# As needed, export nulls to address [NOTE - all have been addressed - 28 remain with no city or county]\n",
    "# unidentified_county_null_df.to_csv('unidentified_county_nulls.csv', encoding='Windows-1252')"
   ]
  },
  {
   "cell_type": "code",
   "execution_count": null,
   "metadata": {},
   "outputs": [],
   "source": [
    "# check unclaimed_df\n",
    "unidentified_df.head()"
   ]
  },
  {
   "cell_type": "markdown",
   "metadata": {},
   "source": [
    "##### Replace null state values with 'None' and null county values with 'None', then re-write county_FIPS column using county_centroids_v2_dataframe"
   ]
  },
  {
   "cell_type": "code",
   "execution_count": null,
   "metadata": {},
   "outputs": [],
   "source": [
    "## Check if any rows with null value for 'State'\n",
    "uni_state_test_df = unidentified_df.loc[unidentified_df['State'].isnull()]\n",
    "# len(uni_state_test_df)\n",
    "uni_state_test_df"
   ]
  },
  {
   "cell_type": "code",
   "execution_count": null,
   "metadata": {},
   "outputs": [],
   "source": [
    "## Check if any rows with null value for 'City' and County'\n",
    "uni_county_test_df = unidentified_df.loc[unidentified_df['County'].isnull()]\n",
    "# len(uni_county_test_df)\n",
    "uni_county_test_df"
   ]
  },
  {
   "cell_type": "code",
   "execution_count": null,
   "metadata": {},
   "outputs": [],
   "source": [
    "# # change NaN County name (for cases with no city or county) to 'None'\n",
    "unidentified_df['County'] = unidentified_df['County'].fillna('None')\n",
    "unidentified_df.head()"
   ]
  },
  {
   "cell_type": "code",
   "execution_count": null,
   "metadata": {},
   "outputs": [],
   "source": [
    "## Double check re-assigned values\n",
    "uni_county_test_2_df = unidentified_df.loc[unidentified_df['County']=='None']\n",
    "uni_county_test_2_df\n",
    "# len(uni_county_test_2_df)"
   ]
  },
  {
   "cell_type": "code",
   "execution_count": null,
   "metadata": {},
   "outputs": [],
   "source": [
    "# Re-Add column with compound field key\n",
    "unidentified_df['State_County'] = unidentified_df['State_FIPS'].astype(str) + \"_\" + unidentified_df['County']\n",
    "unidentified_df.head()"
   ]
  },
  {
   "cell_type": "code",
   "execution_count": null,
   "metadata": {},
   "outputs": [],
   "source": [
    "## Double check re-assigned values\n",
    "uni_county_test_3_df = unidentified_df.loc[unidentified_df['County']=='None']\n",
    "uni_county_test_3_df\n",
    "# len(uni_county_test_3_df)"
   ]
  },
  {
   "cell_type": "code",
   "execution_count": null,
   "metadata": {},
   "outputs": [],
   "source": [
    "# Re-add County FIPS column to dataframe, using the State_County name field as a key in the county_v2_dict, to pull the correct County FIPS code for each row\n",
    "unidentified_df['County_FIPS'] = unidentified_df['State_County'].map(county_v2_dict)\n",
    "# Check unique values in new dataframe field\n",
    "unidentified_df['County_FIPS'].unique()"
   ]
  },
  {
   "cell_type": "code",
   "execution_count": null,
   "metadata": {},
   "outputs": [],
   "source": [
    "# check null values to make sure none are left [Note - all gone!]\n",
    "unidentified_county_null_v2_df = unidentified_df.loc[unidentified_df['County_FIPS'].isnull()]\n",
    "# unidentified_county_null_v2_df.shape\n",
    "unidentified_county_null_v2_df"
   ]
  },
  {
   "cell_type": "code",
   "execution_count": null,
   "metadata": {},
   "outputs": [],
   "source": [
    "## Double check re-assigned values\n",
    "uni_county_test_4_df = unidentified_df.loc[unidentified_df['County']=='None']\n",
    "uni_county_test_4_df\n",
    "# len(uni_county_test_4_df)"
   ]
  },
  {
   "cell_type": "markdown",
   "metadata": {},
   "source": [
    "# Part 5: Prep data for city-level JSONs for all 3 databases"
   ]
  },
  {
   "cell_type": "markdown",
   "metadata": {},
   "source": [
    "#### Clean up city dataframe"
   ]
  },
  {
   "cell_type": "code",
   "execution_count": null,
   "metadata": {},
   "outputs": [],
   "source": [
    "city_df.head()"
   ]
  },
  {
   "cell_type": "code",
   "execution_count": null,
   "metadata": {},
   "outputs": [],
   "source": [
    "# Drop columns that aren't needed\n",
    "city_df = city_df.drop(columns=['FEATURE_CL','PRIMARY_LA', 'PRIM_LONG_', 'SOURCE_LAT', 'SOURCE_LON', 'SOURCE_L_1', 'SOURCE_L_2', 'ELEV_IN_M', 'ELEV_IN_FT', 'MAP_NAME', 'DATE_CREAT', 'DATE_EDITE'])"
   ]
  },
  {
   "cell_type": "code",
   "execution_count": null,
   "metadata": {},
   "outputs": [],
   "source": [
    "city_df.head()"
   ]
  },
  {
   "cell_type": "code",
   "execution_count": null,
   "metadata": {},
   "outputs": [],
   "source": [
    "# Rename coordinate columns\n",
    "city_df.rename(columns={'PRIM_LAT_D': 'Lat_dd', 'PRIM_LON_1': 'Lon_dd'}, inplace=True)"
   ]
  },
  {
   "cell_type": "code",
   "execution_count": null,
   "metadata": {},
   "outputs": [],
   "source": [
    "city_df.head()"
   ]
  },
  {
   "cell_type": "code",
   "execution_count": null,
   "metadata": {},
   "outputs": [],
   "source": [
    "# make dictionary of states and state FIPS code\n",
    "state_dict = dict(zip(state_centroids_df.NAME, state_centroids_df.STATEFP))\n",
    "# state_dict\n",
    "# state_dict['Alaska']\n",
    "len(state_dict)"
   ]
  },
  {
   "cell_type": "code",
   "execution_count": null,
   "metadata": {},
   "outputs": [],
   "source": []
  },
  {
   "cell_type": "code",
   "execution_count": null,
   "metadata": {},
   "outputs": [],
   "source": []
  },
  {
   "cell_type": "code",
   "execution_count": null,
   "metadata": {},
   "outputs": [],
   "source": []
  },
  {
   "cell_type": "code",
   "execution_count": null,
   "metadata": {},
   "outputs": [],
   "source": []
  },
  {
   "cell_type": "code",
   "execution_count": null,
   "metadata": {},
   "outputs": [],
   "source": []
  },
  {
   "cell_type": "code",
   "execution_count": null,
   "metadata": {},
   "outputs": [],
   "source": [
    "# check dataframes\n",
    "missing_df.head()"
   ]
  },
  {
   "cell_type": "code",
   "execution_count": null,
   "metadata": {},
   "outputs": [],
   "source": [
    "unclaimed_df.head()"
   ]
  },
  {
   "cell_type": "code",
   "execution_count": null,
   "metadata": {},
   "outputs": [],
   "source": [
    "unidentified_df.head()"
   ]
  },
  {
   "cell_type": "code",
   "execution_count": null,
   "metadata": {},
   "outputs": [],
   "source": []
  },
  {
   "cell_type": "markdown",
   "metadata": {},
   "source": [
    "# PART 6"
   ]
  },
  {
   "cell_type": "markdown",
   "metadata": {},
   "source": [
    "### Construct State-level GeoJSON with correct structure"
   ]
  },
  {
   "cell_type": "markdown",
   "metadata": {},
   "source": [
    "Goal format:\n",
    "{\n",
    "\"type\": \"Feature\",\n",
    "    \"name\": \"Wisconsin\",\n",
    "    \"properties\": {\n",
    "        \"missing\": [ ],\n",
    "        \"unclaimed\": [ ],\n",
    "        \"unidentified\": [ ],\n",
    "        \"filtered\": [ ]\n",
    "    }\n",
    "    \"geometry\": {\n",
    "          \"type\": \"Point\",\n",
    "          \"coordinates\": [\n",
    "            -117.79750667,\n",
    "            36.03755926\n",
    "          ]\n",
    "}\n",
    "* each array will be a list of dictionaries. Each dictionary = one case. Keys = headers"
   ]
  },
  {
   "cell_type": "code",
   "execution_count": null,
   "metadata": {},
   "outputs": [],
   "source": [
    "# get headers\n",
    "missing_header = list(missing_df.columns.values)\n",
    "print(\"missing header:\", missing_header)\n",
    "unclaimed_header = list(unclaimed_df.columns.values)\n",
    "print(\"unclaimed header:\", unclaimed_header)\n",
    "unidentified_header = list(unidentified_df.columns.values)\n",
    "print(\"unidentified header:\", unidentified_header)"
   ]
  },
  {
   "cell_type": "code",
   "execution_count": null,
   "metadata": {},
   "outputs": [],
   "source": [
    "# check df\n",
    "unclaimed_df.head()"
   ]
  },
  {
   "cell_type": "code",
   "execution_count": null,
   "metadata": {},
   "outputs": [],
   "source": [
    "# check data types\n",
    "type(unclaimed_df['State_FIPS'][0])"
   ]
  },
  {
   "cell_type": "code",
   "execution_count": null,
   "metadata": {},
   "outputs": [],
   "source": [
    "# check centroids\n",
    "state_centroids_v2_df.head()\n",
    "len(state_centroids_v2_df)"
   ]
  },
  {
   "cell_type": "code",
   "execution_count": null,
   "metadata": {},
   "outputs": [],
   "source": [
    "# sort each database by state FIPS\n",
    "# sort state centroids by state FIPS\n",
    "state_centroids_v2_df = state_centroids_v2_df.sort_values(by=['STATEFP'])\n",
    "state_centroids_v2_df.head()"
   ]
  },
  {
   "cell_type": "code",
   "execution_count": null,
   "metadata": {},
   "outputs": [],
   "source": [
    "# sort each database by state FIPS\n",
    "# sort missing by state FIPS\n",
    "missing_df = missing_df.sort_values(by=['State_FIPS'])\n",
    "missing_df.head()"
   ]
  },
  {
   "cell_type": "code",
   "execution_count": null,
   "metadata": {},
   "outputs": [],
   "source": [
    "# sort unclaimed by state FIPS\n",
    "unclaimed_df = unclaimed_df.sort_values(by=['State_FIPS'])\n",
    "unclaimed_df.head()"
   ]
  },
  {
   "cell_type": "code",
   "execution_count": null,
   "metadata": {},
   "outputs": [],
   "source": [
    "# sort unidentified by state FIPS\n",
    "unidentified_df = unidentified_df.sort_values(by=['State_FIPS'])\n",
    "unidentified_df.head()"
   ]
  },
  {
   "cell_type": "code",
   "execution_count": null,
   "metadata": {},
   "outputs": [],
   "source": [
    "## Create state array\n",
    "state_array = []\n",
    "## for each state in state_centroids...\n",
    "i = 0\n",
    "while i < len(state_centroids_v2_df):\n",
    "    state_dict = {}\n",
    "    state_dict[\"type\"] = \"Feature\"\n",
    "    state_dict[\"name\"] = state_centroids_v2_df[\"NAME\"][i]\n",
    "    state_dict[\"name_abbr\"] = state_centroids_v2_df[\"STUSPS\"][i]\n",
    "    state_dict[\"state_FIPS\"] = str(state_centroids_v2_df[\"STATEFP\"][i])\n",
    "    state_dict[\"properties\"] = {}\n",
    "    missing_array = []\n",
    "    j = 0\n",
    "    while j < len(missing_df):\n",
    "        # check if state_fips matches\n",
    "        if missing_df['State_FIPS'][j] == state_centroids_v2_df[\"STATEFP\"][i]:\n",
    "            missing_dict = {}\n",
    "            for item in missing_header:\n",
    "                missing_dict[item] = str(missing_df[item][j])\n",
    "            # append dictionary to missing array\n",
    "            missing_array.append(missing_dict)\n",
    "        # increment j\n",
    "        j += 1\n",
    "    state_dict[\"properties\"]['missing'] = missing_array     \n",
    "    \n",
    "    unclaimed_array = []\n",
    "    k = 0\n",
    "    while k < len(unclaimed_df):\n",
    "        # check if state_fips matches\n",
    "        if unclaimed_df['State_FIPS'][k] == state_centroids_v2_df[\"STATEFP\"][i]:\n",
    "            unclaimed_dict = {}\n",
    "            for item in unclaimed_header:\n",
    "                unclaimed_dict[item] = str(unclaimed_df[item][k])\n",
    "            # append dictionary to unclaimed array\n",
    "            unclaimed_array.append(unclaimed_dict)\n",
    "        # increment k\n",
    "        k += 1\n",
    "    state_dict[\"properties\"]['unclaimed'] = unclaimed_array\n",
    "    \n",
    "    unidentified_array = []\n",
    "    l = 0\n",
    "    while l < len(unidentified_df):\n",
    "        # check if state_fips matches\n",
    "        if unidentified_df['State_FIPS'][l] == state_centroids_v2_df[\"STATEFP\"][i]:\n",
    "            unidentified_dict = {}\n",
    "            for item in unidentified_header:\n",
    "                unidentified_dict[item] = str(unidentified_df[item][l])\n",
    "            # append dictionary to unclaimed array\n",
    "            unidentified_array.append(unidentified_dict)\n",
    "        # increment l\n",
    "        l += 1\n",
    "    state_dict[\"properties\"]['unidentified'] = unidentified_array\n",
    "    \n",
    "    state_dict[\"properties\"]['filtered'] = []\n",
    "    ## set geometry\n",
    "    state_dict[\"geometry\"] = {}\n",
    "    state_dict[\"geometry\"][\"type\"] = \"Point\"\n",
    "    state_dict[\"geometry\"][\"coordinates\"] = [state_centroids_v2_df['Lon_dd'][i], state_centroids_v2_df['Lat_dd'][i]]\n",
    "    ## append state dictionary to array\n",
    "    state_array.append(state_dict)\n",
    "    # increment interator\n",
    "    i += 1\n",
    "# state_array"
   ]
  },
  {
   "cell_type": "code",
   "execution_count": null,
   "metadata": {},
   "outputs": [],
   "source": [
    "# check item in array\n",
    "len(state_array)\n",
    "# state_array[0]['properties']['unclaimed']"
   ]
  },
  {
   "cell_type": "code",
   "execution_count": null,
   "metadata": {},
   "outputs": [],
   "source": [
    "# Create FeatureCollection\n",
    "state_feature_collection = {}\n",
    "state_feature_collection[\"type\"] = \"FeatureCollection\"\n",
    "state_feature_collection[\"features\"] = state_array\n",
    "# state_feature_collection"
   ]
  },
  {
   "cell_type": "code",
   "execution_count": null,
   "metadata": {},
   "outputs": [],
   "source": [
    "# Convert FeatureCollection to JSON format\n",
    "state_geojson = geojson.dumps(state_feature_collection)\n",
    "# check type to make sure conversion was sucessful\n",
    "print(type(state_geojson))"
   ]
  },
  {
   "cell_type": "code",
   "execution_count": null,
   "metadata": {},
   "outputs": [],
   "source": [
    "# Save JSON-formatted FeatureCollection as JSON file\n",
    "# Save as new json file\n",
    "with open('JSON/state_geojson.json', 'w', encoding='utf-8') as json_file:\n",
    "    json_file.write(state_geojson)"
   ]
  },
  {
   "cell_type": "markdown",
   "metadata": {},
   "source": [
    "### Construct COUNTY-LEVEL GeoJSON with correct structure"
   ]
  },
  {
   "cell_type": "markdown",
   "metadata": {},
   "source": [
    "Goal format:\n",
    "{\n",
    "\"type\": \"Feature\",\n",
    "    \"name\": \"Dane\",\n",
    "    \"state\": \"Wisconsin\",\n",
    "    \"state_FIPS\": ,\n",
    "    \"county_FIPS\": ,\n",
    "    \"properties\": {\n",
    "        \"missing\": [ ],\n",
    "        \"unclaimed\": [ ],\n",
    "        \"unidentified\": [ ],\n",
    "        \"filtered\": [ ]\n",
    "    }\n",
    "    \"geometry\": {\n",
    "          \"type\": \"Point\",\n",
    "          \"coordinates\": [\n",
    "            -117.79750667,\n",
    "            36.03755926\n",
    "          ]\n",
    "}\n",
    "* each array will be a list of dictionaries. Each dictionary = one case. Keys = headers"
   ]
  },
  {
   "cell_type": "code",
   "execution_count": null,
   "metadata": {},
   "outputs": [],
   "source": [
    "# get headers\n",
    "missing_header = list(missing_df.columns.values)\n",
    "print(\"missing header:\", missing_header)\n",
    "unclaimed_header = list(unclaimed_df.columns.values)\n",
    "print(\"unclaimed header:\", unclaimed_header)\n",
    "unidentified_header = list(unidentified_df.columns.values)\n",
    "print(\"unidentified header:\", unidentified_header)"
   ]
  },
  {
   "cell_type": "code",
   "execution_count": null,
   "metadata": {},
   "outputs": [],
   "source": [
    "# check df\n",
    "unclaimed_df.head()"
   ]
  },
  {
   "cell_type": "code",
   "execution_count": null,
   "metadata": {},
   "outputs": [],
   "source": [
    "# check data types\n",
    "type(unclaimed_df['State_FIPS'][0])"
   ]
  },
  {
   "cell_type": "code",
   "execution_count": null,
   "metadata": {},
   "outputs": [],
   "source": [
    "# check centroids\n",
    "county_centroids_v2_df.head()\n",
    "len(county_centroids_v2_df)"
   ]
  },
  {
   "cell_type": "code",
   "execution_count": null,
   "metadata": {},
   "outputs": [],
   "source": [
    "# sort each database by county FIPS\n",
    "# sort county centroids by county FIPS\n",
    "county_centroids_v2_df = county_centroids_v2_df.sort_values(by=['GEOID'])\n",
    "county_centroids_v2_df.head()"
   ]
  },
  {
   "cell_type": "code",
   "execution_count": null,
   "metadata": {},
   "outputs": [],
   "source": [
    "# sort each database by county FIPS\n",
    "# sort missing by county FIPS\n",
    "missing_df = missing_df.sort_values(by=['County_FIPS'])\n",
    "missing_df.head()"
   ]
  },
  {
   "cell_type": "code",
   "execution_count": null,
   "metadata": {},
   "outputs": [],
   "source": [
    "# sort unclaimed by county FIPS\n",
    "unclaimed_df = unclaimed_df.sort_values(by=['County_FIPS'])\n",
    "unclaimed_df.head()"
   ]
  },
  {
   "cell_type": "code",
   "execution_count": null,
   "metadata": {},
   "outputs": [],
   "source": [
    "# sort unidentified by county FIPS\n",
    "unidentified_df = unidentified_df.sort_values(by=['County_FIPS'])\n",
    "unidentified_df.head()"
   ]
  },
  {
   "cell_type": "code",
   "execution_count": null,
   "metadata": {},
   "outputs": [],
   "source": [
    "## Create county array \n",
    "county_array = []\n",
    "## for each county in county_centroids_v2...\n",
    "i = 0\n",
    "while i < len(county_centroids_v2_df):\n",
    "    county_dict = {}\n",
    "    county_dict[\"type\"] = \"Feature\"\n",
    "    county_dict[\"name\"] = str(county_centroids_v2_df[\"NAME\"][i])\n",
    "    county_dict[\"county_FIPS\"] = str(county_centroids_v2_df[\"GEOID\"][i])\n",
    "    county_dict[\"state_name\"] = str(county_centroids_v2_df[\"STATE_NAME\"][i])\n",
    "    county_dict[\"state_FIPS\"] = str(county_centroids_v2_df[\"STATEFP\"][i])\n",
    "    county_dict[\"properties\"] = {}\n",
    "    missing_array = []\n",
    "    j = 0\n",
    "    while j < len(missing_df):\n",
    "        # check if state_fips matches\n",
    "        if missing_df['County_FIPS'][j] == county_centroids_v2_df[\"GEOID\"][i]:\n",
    "            missing_dict = {}\n",
    "            for item in missing_header:\n",
    "                missing_dict[item] = str(missing_df[item][j])\n",
    "            # append dictionary to missing array\n",
    "            missing_array.append(missing_dict)\n",
    "        # increment j\n",
    "        j += 1\n",
    "    county_dict[\"properties\"]['missing'] = missing_array     \n",
    "    \n",
    "    unclaimed_array = []\n",
    "    k = 0\n",
    "    while k < len(unclaimed_df):\n",
    "        # check if state_fips matches\n",
    "        if unclaimed_df['County_FIPS'][k] == county_centroids_v2_df[\"GEOID\"][i]:\n",
    "            unclaimed_dict = {}\n",
    "            for item in unclaimed_header:\n",
    "                unclaimed_dict[item] = str(unclaimed_df[item][k])\n",
    "            # append dictionary to unclaimed array\n",
    "            unclaimed_array.append(unclaimed_dict)\n",
    "        # increment k\n",
    "        k += 1\n",
    "    county_dict[\"properties\"]['unclaimed'] = unclaimed_array\n",
    "    \n",
    "    unidentified_array = []\n",
    "    l = 0\n",
    "    while l < len(unidentified_df):\n",
    "        # check if state_fips matches\n",
    "        if unidentified_df['County_FIPS'][l] == county_centroids_v2_df[\"GEOID\"][i]:\n",
    "            unidentified_dict = {}\n",
    "            for item in unidentified_header:\n",
    "                unidentified_dict[item] = str(unidentified_df[item][l])\n",
    "            # append dictionary to unclaimed array\n",
    "            unidentified_array.append(unidentified_dict)\n",
    "        # increment l\n",
    "        l += 1\n",
    "    county_dict[\"properties\"]['unidentified'] = unidentified_array\n",
    "    \n",
    "    county_dict[\"properties\"]['filtered'] = []\n",
    "    ## set geometry\n",
    "    county_dict[\"geometry\"] = {}\n",
    "    county_dict[\"geometry\"][\"type\"] = \"Point\"\n",
    "    county_dict[\"geometry\"][\"coordinates\"] = [county_centroids_v2_df['Lon_dd'][i], county_centroids_v2_df['Lat_dd'][i]]\n",
    "    ## append county dictionary to array\n",
    "    county_array.append(county_dict)\n",
    "    # test statement\n",
    "    print(\"added county\", str(i+1), \"of 3283\")\n",
    "    # increment interator\n",
    "    i += 1\n",
    "# county_array"
   ]
  },
  {
   "cell_type": "code",
   "execution_count": null,
   "metadata": {},
   "outputs": [],
   "source": [
    "# check item in array\n",
    "len(county_array)\n",
    "# county_array[55]['properties']['unclaimed']"
   ]
  },
  {
   "cell_type": "code",
   "execution_count": null,
   "metadata": {},
   "outputs": [],
   "source": [
    "# Create FeatureCollection\n",
    "county_feature_collection = {}\n",
    "county_feature_collection[\"type\"] = \"FeatureCollection\"\n",
    "county_feature_collection[\"features\"] = county_array\n",
    "# county_feature_collection"
   ]
  },
  {
   "cell_type": "code",
   "execution_count": null,
   "metadata": {},
   "outputs": [],
   "source": [
    "# Convert FeatureCollection to JSON format\n",
    "county_geojson = geojson.dumps(county_feature_collection)\n",
    "# check type to make sure conversion was sucessful\n",
    "print(type(county_geojson))"
   ]
  },
  {
   "cell_type": "code",
   "execution_count": null,
   "metadata": {},
   "outputs": [],
   "source": [
    "# Save JSON-formatted FeatureCollection as JSON file\n",
    "# Save as new json file\n",
    "with open('JSON/county_geojson.json', 'w', encoding='utf-8') as json_file:\n",
    "    json_file.write(county_geojson)"
   ]
  },
  {
   "cell_type": "markdown",
   "metadata": {},
   "source": [
    "# Part 7 make State and County polygon GeoJSONS"
   ]
  },
  {
   "cell_type": "code",
   "execution_count": 10,
   "metadata": {},
   "outputs": [],
   "source": [
    "# Load state shapefile\n",
    "state_gdf = gpd.read_file('Shapefiles/state_polygons.shp')"
   ]
  },
  {
   "cell_type": "code",
   "execution_count": 11,
   "metadata": {},
   "outputs": [
    {
     "data": {
      "text/plain": [
       "<matplotlib.axes._subplots.AxesSubplot at 0x168b9556e48>"
      ]
     },
     "execution_count": 11,
     "metadata": {},
     "output_type": "execute_result"
    },
    {
     "data": {
      "image/png": "[encoded data removed]",
      "text/plain": [
       "<Figure size 432x288 with 1 Axes>"
      ]
     },
     "metadata": {
      "needs_background": "light"
     },
     "output_type": "display_data"
    }
   ],
   "source": [
    "state_gdf.plot()"
   ]
  },
  {
   "cell_type": "code",
   "execution_count": 12,
   "metadata": {},
   "outputs": [],
   "source": [
    "# write to geoJSON\n",
    "state_gdf.to_file(\"JSON/state_polygons.json\", driver=\"GeoJSON\", encoding='utf-8')"
   ]
  },
  {
   "cell_type": "code",
   "execution_count": 13,
   "metadata": {},
   "outputs": [],
   "source": [
    "# load county shapefile\n",
    "county_gdf = gpd.read_file('Shapefiles/county_polygons.shp')"
   ]
  },
  {
   "cell_type": "code",
   "execution_count": 14,
   "metadata": {},
   "outputs": [
    {
     "data": {
      "text/plain": [
       "<matplotlib.axes._subplots.AxesSubplot at 0x168bf46b948>"
      ]
     },
     "execution_count": 14,
     "metadata": {},
     "output_type": "execute_result"
    },
    {
     "data": {
      "image/png": "[encoded data removed]",
      "text/plain": [
       "<Figure size 432x288 with 1 Axes>"
      ]
     },
     "metadata": {
      "needs_background": "light"
     },
     "output_type": "display_data"
    }
   ],
   "source": [
    "county_gdf.plot()"
   ]
  },
  {
   "cell_type": "code",
   "execution_count": 15,
   "metadata": {},
   "outputs": [],
   "source": [
    "# write to geoJSON\n",
    "county_gdf.to_file(\"JSON/county_polygons.json\", driver=\"GeoJSON\", encoding='utf-8')"
   ]
  },
  {
   "cell_type": "code",
   "execution_count": null,
   "metadata": {},
   "outputs": [],
   "source": []
  }
 ],
 "metadata": {
  "kernelspec": {
   "display_name": "Python 3",
   "language": "python",
   "name": "python3"
  },
  "language_info": {
   "codemirror_mode": {
    "name": "ipython",
    "version": 3
   },
   "file_extension": ".py",
   "mimetype": "text/x-python",
   "name": "python",
   "nbconvert_exporter": "python",
   "pygments_lexer": "ipython3",
   "version": "3.7.4"
  }
 },
 "nbformat": 4,
 "nbformat_minor": 4
}
